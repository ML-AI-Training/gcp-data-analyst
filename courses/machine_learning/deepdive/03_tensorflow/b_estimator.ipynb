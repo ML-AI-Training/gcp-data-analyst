{
 "cells": [
  {
   "cell_type": "markdown",
   "metadata": {
    "deletable": true,
    "editable": true
   },
   "source": [
    "<h1> Machine Learning using tf.estimator </h1>\n",
    "\n",
    "In this notebook, we will create a machine learning model using tf.estimator and evaluate its performance.  The dataset is rather small (7700 samples), so we can do it all in-memory.  We will also simply pass the raw data in as-is. "
   ]
  },
  {
   "cell_type": "code",
   "execution_count": 1,
   "metadata": {
    "collapsed": false,
    "deletable": true,
    "editable": true
   },
   "outputs": [
    {
     "name": "stderr",
     "output_type": "stream",
     "text": [
      "/usr/local/envs/py3env/lib/python3.5/site-packages/h5py/__init__.py:36: FutureWarning: Conversion of the second argument of issubdtype from `float` to `np.floating` is deprecated. In future, it will be treated as `np.float64 == np.dtype(float).type`.\n",
      "  from ._conv import register_converters as _register_converters\n"
     ]
    },
    {
     "name": "stdout",
     "output_type": "stream",
     "text": [
      "1.5.0\n"
     ]
    }
   ],
   "source": [
    "import datalab.bigquery as bq\n",
    "import tensorflow as tf\n",
    "import pandas as pd\n",
    "import numpy as np\n",
    "import shutil\n",
    "\n",
    "print (tf.__version__)"
   ]
  },
  {
   "cell_type": "markdown",
   "metadata": {
    "deletable": true,
    "editable": true
   },
   "source": [
    "Read data created in the previous chapter."
   ]
  },
  {
   "cell_type": "code",
   "execution_count": 2,
   "metadata": {
    "collapsed": true,
    "deletable": true,
    "editable": true
   },
   "outputs": [],
   "source": [
    "# In CSV, label is the first column, after the features, followed by the key\n",
    "CSV_COLUMNS = ['fare_amount', 'pickuplon','pickuplat','dropofflon','dropofflat','passengers', 'key']\n",
    "FEATURES = CSV_COLUMNS[1:len(CSV_COLUMNS) - 1]\n",
    "LABEL = CSV_COLUMNS[0]\n",
    "\n",
    "df_train = pd.read_csv('./taxi-train.csv', header = None, names = CSV_COLUMNS)\n",
    "df_valid = pd.read_csv('./taxi-valid.csv', header = None, names = CSV_COLUMNS)"
   ]
  },
  {
   "cell_type": "markdown",
   "metadata": {
    "deletable": true,
    "editable": true
   },
   "source": [
    "<h2> Input function to read from Pandas Dataframe into tf.constant </h2>"
   ]
  },
  {
   "cell_type": "code",
   "execution_count": 3,
   "metadata": {
    "collapsed": false,
    "deletable": true,
    "editable": true
   },
   "outputs": [],
   "source": [
    "def make_input_fn(df, num_epochs):\n",
    "  return tf.estimator.inputs.pandas_input_fn(\n",
    "    x = df,\n",
    "    y = df[LABEL],\n",
    "    batch_size = 128,\n",
    "    num_epochs = num_epochs,\n",
    "    shuffle = True,\n",
    "    queue_capacity = 1000,\n",
    "    num_threads = 1\n",
    "  )"
   ]
  },
  {
   "cell_type": "markdown",
   "metadata": {
    "deletable": true,
    "editable": true
   },
   "source": [
    "### Create feature columns for estimator"
   ]
  },
  {
   "cell_type": "code",
   "execution_count": 4,
   "metadata": {
    "collapsed": true,
    "deletable": true,
    "editable": true
   },
   "outputs": [],
   "source": [
    "def make_feature_cols():\n",
    "  input_columns = [tf.feature_column.numeric_column(k) for k in FEATURES]\n",
    "  return input_columns"
   ]
  },
  {
   "cell_type": "markdown",
   "metadata": {
    "deletable": true,
    "editable": true
   },
   "source": [
    "<h3> Linear Regression with tf.Estimator framework </h3>"
   ]
  },
  {
   "cell_type": "code",
   "execution_count": 5,
   "metadata": {
    "collapsed": false,
    "deletable": true,
    "editable": true
   },
   "outputs": [
    {
     "name": "stdout",
     "output_type": "stream",
     "text": [
      "INFO:tensorflow:Using default config.\n",
      "INFO:tensorflow:Using config: {'_save_checkpoints_secs': 600, '_save_summary_steps': 100, '_cluster_spec': <tensorflow.python.training.server_lib.ClusterSpec object at 0x7fe350474358>, '_num_worker_replicas': 1, '_keep_checkpoint_every_n_hours': 10000, '_is_chief': True, '_log_step_count_steps': 100, '_model_dir': 'taxi_trained', '_session_config': None, '_service': None, '_master': '', '_tf_random_seed': None, '_save_checkpoints_steps': None, '_num_ps_replicas': 0, '_keep_checkpoint_max': 5, '_task_id': 0, '_task_type': 'worker'}\n",
      "INFO:tensorflow:Create CheckpointSaverHook.\n",
      "INFO:tensorflow:Saving checkpoints for 1 into taxi_trained/model.ckpt.\n",
      "INFO:tensorflow:loss = 28760.857, step = 1\n",
      "INFO:tensorflow:global_step/sec: 225.685\n",
      "INFO:tensorflow:loss = 11744.209, step = 101 (0.447 sec)\n",
      "INFO:tensorflow:global_step/sec: 305.132\n",
      "INFO:tensorflow:loss = 12359.252, step = 201 (0.328 sec)\n",
      "INFO:tensorflow:global_step/sec: 296.48\n",
      "INFO:tensorflow:loss = 9529.692, step = 301 (0.337 sec)\n",
      "INFO:tensorflow:global_step/sec: 250.12\n",
      "INFO:tensorflow:loss = 15092.01, step = 401 (0.400 sec)\n",
      "INFO:tensorflow:global_step/sec: 297.871\n",
      "INFO:tensorflow:loss = 8344.475, step = 501 (0.336 sec)\n",
      "INFO:tensorflow:global_step/sec: 306.153\n",
      "INFO:tensorflow:loss = 8641.253, step = 601 (0.327 sec)\n",
      "INFO:tensorflow:Saving checkpoints for 608 into taxi_trained/model.ckpt.\n",
      "INFO:tensorflow:Loss for final step: 353.524.\n"
     ]
    },
    {
     "data": {
      "text/plain": [
       "<tensorflow.python.estimator.canned.linear.LinearRegressor at 0x7fe390917470>"
      ]
     },
     "execution_count": 5,
     "metadata": {},
     "output_type": "execute_result"
    }
   ],
   "source": [
    "tf.logging.set_verbosity(tf.logging.INFO)\n",
    "\n",
    "OUTDIR = 'taxi_trained'\n",
    "shutil.rmtree(OUTDIR, ignore_errors = True) # start fresh each time\n",
    "\n",
    "model = tf.estimator.LinearRegressor(\n",
    "      feature_columns = make_feature_cols(), model_dir = OUTDIR)\n",
    "\n",
    "model.train(input_fn = make_input_fn(df_train, num_epochs = 10))"
   ]
  },
  {
   "cell_type": "markdown",
   "metadata": {
    "deletable": true,
    "editable": true
   },
   "source": [
    "Evaluate on the validation data (we should defer using the test data to after we have selected a final model)."
   ]
  },
  {
   "cell_type": "code",
   "execution_count": 6,
   "metadata": {
    "collapsed": false,
    "deletable": true,
    "editable": true
   },
   "outputs": [
    {
     "name": "stdout",
     "output_type": "stream",
     "text": [
      "INFO:tensorflow:Starting evaluation at 2018-03-16-07:28:21\n",
      "INFO:tensorflow:Restoring parameters from taxi_trained/model.ckpt-608\n",
      "INFO:tensorflow:Finished evaluation at 2018-03-16-07:28:21\n",
      "INFO:tensorflow:Saving dict for global step 608: average_loss = 108.960304, global_step = 608, loss = 12958.493\n",
      "RMSE on validation dataset = 10.43840503692627\n"
     ]
    }
   ],
   "source": [
    "def print_rmse(model, name, df):\n",
    "  metrics = model.evaluate(input_fn = make_input_fn(df, 1))\n",
    "  print ('RMSE on {} dataset = {}'.format(name, np.sqrt(metrics['average_loss'])))\n",
    "print_rmse(model, 'validation', df_valid)"
   ]
  },
  {
   "cell_type": "markdown",
   "metadata": {
    "deletable": true,
    "editable": true
   },
   "source": [
    "This is nowhere near our benchmark (RMSE of $6 or so on this data), but it serves to demonstrate what TensorFlow code looks like.  Let's use this model for prediction."
   ]
  },
  {
   "cell_type": "code",
   "execution_count": 7,
   "metadata": {
    "collapsed": false,
    "deletable": true,
    "editable": true
   },
   "outputs": [
    {
     "name": "stdout",
     "output_type": "stream",
     "text": [
      "INFO:tensorflow:Using default config.\n",
      "INFO:tensorflow:Using config: {'_save_checkpoints_secs': 600, '_save_summary_steps': 100, '_cluster_spec': <tensorflow.python.training.server_lib.ClusterSpec object at 0x7fe350474b70>, '_num_worker_replicas': 1, '_keep_checkpoint_every_n_hours': 10000, '_is_chief': True, '_log_step_count_steps': 100, '_model_dir': 'taxi_trained', '_session_config': None, '_service': None, '_master': '', '_tf_random_seed': None, '_save_checkpoints_steps': None, '_num_ps_replicas': 0, '_keep_checkpoint_max': 5, '_task_id': 0, '_task_type': 'worker'}\n",
      "INFO:tensorflow:Restoring parameters from taxi_trained/model.ckpt-608\n",
      "[11.492683, 11.315024, 11.313358, 11.251575, 11.253365]\n"
     ]
    }
   ],
   "source": [
    "import itertools\n",
    "# Read saved model and use it for prediction\n",
    "model = tf.estimator.LinearRegressor(\n",
    "      feature_columns = make_feature_cols(), model_dir = OUTDIR)\n",
    "preds_iter = model.predict(input_fn = make_input_fn(df_valid, 1))\n",
    "print ([pred['predictions'][0] for pred in list(itertools.islice(preds_iter, 5))])"
   ]
  },
  {
   "cell_type": "markdown",
   "metadata": {
    "deletable": true,
    "editable": true
   },
   "source": [
    "This explains why the RMSE was so high -- the model essentially predicts the same amount for every trip.  Would a more complex model help? Let's try using a deep neural network.  The code to do this is quite straightforward as well."
   ]
  },
  {
   "cell_type": "markdown",
   "metadata": {
    "deletable": true,
    "editable": true
   },
   "source": [
    "<h3> Deep Neural Network regression </h3>"
   ]
  },
  {
   "cell_type": "code",
   "execution_count": 8,
   "metadata": {
    "collapsed": false,
    "deletable": true,
    "editable": true
   },
   "outputs": [
    {
     "name": "stdout",
     "output_type": "stream",
     "text": [
      "INFO:tensorflow:Using default config.\n",
      "INFO:tensorflow:Using config: {'_save_checkpoints_secs': 600, '_save_summary_steps': 100, '_cluster_spec': <tensorflow.python.training.server_lib.ClusterSpec object at 0x7fe35000d9b0>, '_num_worker_replicas': 1, '_keep_checkpoint_every_n_hours': 10000, '_is_chief': True, '_log_step_count_steps': 100, '_model_dir': 'taxi_trained', '_session_config': None, '_service': None, '_master': '', '_tf_random_seed': None, '_save_checkpoints_steps': None, '_num_ps_replicas': 0, '_keep_checkpoint_max': 5, '_task_id': 0, '_task_type': 'worker'}\n",
      "INFO:tensorflow:Create CheckpointSaverHook.\n",
      "INFO:tensorflow:Saving checkpoints for 1 into taxi_trained/model.ckpt.\n",
      "INFO:tensorflow:loss = 37768.04, step = 1\n",
      "INFO:tensorflow:global_step/sec: 274.645\n",
      "INFO:tensorflow:loss = 19271.062, step = 101 (0.367 sec)\n",
      "INFO:tensorflow:global_step/sec: 323.545\n",
      "INFO:tensorflow:loss = 29142.021, step = 201 (0.309 sec)\n",
      "INFO:tensorflow:global_step/sec: 324.299\n",
      "INFO:tensorflow:loss = 26467.516, step = 301 (0.308 sec)\n",
      "INFO:tensorflow:global_step/sec: 294.861\n",
      "INFO:tensorflow:loss = 23839.129, step = 401 (0.339 sec)\n",
      "INFO:tensorflow:global_step/sec: 314.195\n",
      "INFO:tensorflow:loss = 23891.625, step = 501 (0.318 sec)\n",
      "INFO:tensorflow:global_step/sec: 310.669\n",
      "INFO:tensorflow:loss = 21348.906, step = 601 (0.322 sec)\n",
      "INFO:tensorflow:global_step/sec: 252.968\n",
      "INFO:tensorflow:loss = 22845.07, step = 701 (0.395 sec)\n",
      "INFO:tensorflow:global_step/sec: 298.335\n",
      "INFO:tensorflow:loss = 24882.285, step = 801 (0.335 sec)\n",
      "INFO:tensorflow:global_step/sec: 317.822\n",
      "INFO:tensorflow:loss = 17500.895, step = 901 (0.315 sec)\n",
      "INFO:tensorflow:global_step/sec: 279.738\n",
      "INFO:tensorflow:loss = 16642.209, step = 1001 (0.357 sec)\n",
      "INFO:tensorflow:global_step/sec: 323.847\n",
      "INFO:tensorflow:loss = 16849.328, step = 1101 (0.309 sec)\n",
      "INFO:tensorflow:global_step/sec: 327.109\n",
      "INFO:tensorflow:loss = 14391.932, step = 1201 (0.306 sec)\n",
      "INFO:tensorflow:global_step/sec: 293.162\n",
      "INFO:tensorflow:loss = 22641.188, step = 1301 (0.341 sec)\n",
      "INFO:tensorflow:global_step/sec: 343.365\n",
      "INFO:tensorflow:loss = 14647.014, step = 1401 (0.291 sec)\n",
      "INFO:tensorflow:global_step/sec: 331.951\n",
      "INFO:tensorflow:loss = 14575.934, step = 1501 (0.301 sec)\n",
      "INFO:tensorflow:global_step/sec: 264.93\n",
      "INFO:tensorflow:loss = 17078.451, step = 1601 (0.378 sec)\n",
      "INFO:tensorflow:global_step/sec: 339.862\n",
      "INFO:tensorflow:loss = 16272.99, step = 1701 (0.294 sec)\n",
      "INFO:tensorflow:global_step/sec: 342.189\n",
      "INFO:tensorflow:loss = 18343.428, step = 1801 (0.292 sec)\n",
      "INFO:tensorflow:global_step/sec: 286.337\n",
      "INFO:tensorflow:loss = 15098.266, step = 1901 (0.350 sec)\n",
      "INFO:tensorflow:global_step/sec: 310.507\n",
      "INFO:tensorflow:loss = 21168.766, step = 2001 (0.322 sec)\n",
      "INFO:tensorflow:global_step/sec: 325.079\n",
      "INFO:tensorflow:loss = 19281.914, step = 2101 (0.308 sec)\n",
      "INFO:tensorflow:global_step/sec: 290.243\n",
      "INFO:tensorflow:loss = 13443.146, step = 2201 (0.346 sec)\n",
      "INFO:tensorflow:global_step/sec: 334.672\n",
      "INFO:tensorflow:loss = 12018.34, step = 2301 (0.297 sec)\n",
      "INFO:tensorflow:global_step/sec: 334.047\n",
      "INFO:tensorflow:loss = 11192.916, step = 2401 (0.300 sec)\n",
      "INFO:tensorflow:global_step/sec: 273.965\n",
      "INFO:tensorflow:loss = 19876.148, step = 2501 (0.365 sec)\n",
      "INFO:tensorflow:global_step/sec: 283.496\n",
      "INFO:tensorflow:loss = 12977.146, step = 2601 (0.353 sec)\n",
      "INFO:tensorflow:global_step/sec: 266.871\n",
      "INFO:tensorflow:loss = 12483.815, step = 2701 (0.375 sec)\n",
      "INFO:tensorflow:global_step/sec: 269.718\n",
      "INFO:tensorflow:loss = 21737.832, step = 2801 (0.372 sec)\n",
      "INFO:tensorflow:global_step/sec: 283.386\n",
      "INFO:tensorflow:loss = 14547.254, step = 2901 (0.351 sec)\n",
      "INFO:tensorflow:global_step/sec: 271.277\n",
      "INFO:tensorflow:loss = 15402.031, step = 3001 (0.369 sec)\n",
      "INFO:tensorflow:global_step/sec: 203.19\n",
      "INFO:tensorflow:loss = 28701.594, step = 3101 (0.492 sec)\n",
      "INFO:tensorflow:global_step/sec: 238.432\n",
      "INFO:tensorflow:loss = 16205.633, step = 3201 (0.419 sec)\n",
      "INFO:tensorflow:global_step/sec: 223.902\n",
      "INFO:tensorflow:loss = 11566.866, step = 3301 (0.446 sec)\n",
      "INFO:tensorflow:global_step/sec: 246.373\n",
      "INFO:tensorflow:loss = 16512.617, step = 3401 (0.406 sec)\n",
      "INFO:tensorflow:global_step/sec: 202.305\n",
      "INFO:tensorflow:loss = 21790.836, step = 3501 (0.494 sec)\n",
      "INFO:tensorflow:global_step/sec: 277.429\n",
      "INFO:tensorflow:loss = 10324.991, step = 3601 (0.363 sec)\n",
      "INFO:tensorflow:global_step/sec: 280.388\n",
      "INFO:tensorflow:loss = 12837.026, step = 3701 (0.354 sec)\n",
      "INFO:tensorflow:global_step/sec: 239.824\n",
      "INFO:tensorflow:loss = 11927.756, step = 3801 (0.416 sec)\n",
      "INFO:tensorflow:global_step/sec: 320.1\n",
      "INFO:tensorflow:loss = 10858.399, step = 3901 (0.313 sec)\n",
      "INFO:tensorflow:global_step/sec: 323.071\n",
      "INFO:tensorflow:loss = 16545.408, step = 4001 (0.309 sec)\n",
      "INFO:tensorflow:global_step/sec: 229.639\n",
      "INFO:tensorflow:loss = 10218.054, step = 4101 (0.436 sec)\n",
      "INFO:tensorflow:global_step/sec: 265.199\n",
      "INFO:tensorflow:loss = 19147.754, step = 4201 (0.377 sec)\n",
      "INFO:tensorflow:global_step/sec: 238.923\n",
      "INFO:tensorflow:loss = 12280.113, step = 4301 (0.418 sec)\n",
      "INFO:tensorflow:global_step/sec: 292.034\n",
      "INFO:tensorflow:loss = 15130.318, step = 4401 (0.343 sec)\n",
      "INFO:tensorflow:global_step/sec: 222.152\n",
      "INFO:tensorflow:loss = 11859.264, step = 4501 (0.451 sec)\n",
      "INFO:tensorflow:global_step/sec: 190.072\n",
      "INFO:tensorflow:loss = 9717.918, step = 4601 (0.526 sec)\n",
      "INFO:tensorflow:global_step/sec: 252.527\n",
      "INFO:tensorflow:loss = 9179.676, step = 4701 (0.396 sec)\n",
      "INFO:tensorflow:global_step/sec: 213.286\n",
      "INFO:tensorflow:loss = 10006.178, step = 4801 (0.469 sec)\n",
      "INFO:tensorflow:global_step/sec: 227.938\n",
      "INFO:tensorflow:loss = 24614.445, step = 4901 (0.438 sec)\n",
      "INFO:tensorflow:global_step/sec: 204.71\n",
      "INFO:tensorflow:loss = 10650.001, step = 5001 (0.489 sec)\n",
      "INFO:tensorflow:global_step/sec: 228.973\n",
      "INFO:tensorflow:loss = 13566.979, step = 5101 (0.437 sec)\n",
      "INFO:tensorflow:global_step/sec: 223.135\n",
      "INFO:tensorflow:loss = 6693.9204, step = 5201 (0.448 sec)\n",
      "INFO:tensorflow:global_step/sec: 259.218\n",
      "INFO:tensorflow:loss = 17130.52, step = 5301 (0.388 sec)\n",
      "INFO:tensorflow:global_step/sec: 209.803\n",
      "INFO:tensorflow:loss = 11608.324, step = 5401 (0.474 sec)\n",
      "INFO:tensorflow:global_step/sec: 276.469\n",
      "INFO:tensorflow:loss = 17429.729, step = 5501 (0.362 sec)\n",
      "INFO:tensorflow:global_step/sec: 296.016\n",
      "INFO:tensorflow:loss = 12758.52, step = 5601 (0.337 sec)\n",
      "INFO:tensorflow:global_step/sec: 225.826\n",
      "INFO:tensorflow:loss = 9646.1875, step = 5701 (0.443 sec)\n",
      "INFO:tensorflow:global_step/sec: 295.125\n",
      "INFO:tensorflow:loss = 10085.115, step = 5801 (0.339 sec)\n",
      "INFO:tensorflow:global_step/sec: 285.71\n",
      "INFO:tensorflow:loss = 14016.656, step = 5901 (0.350 sec)\n",
      "INFO:tensorflow:global_step/sec: 238.548\n",
      "INFO:tensorflow:loss = 9502.064, step = 6001 (0.421 sec)\n",
      "INFO:tensorflow:Saving checkpoints for 6071 into taxi_trained/model.ckpt.\n",
      "INFO:tensorflow:Loss for final step: 1308.146.\n",
      "INFO:tensorflow:Starting evaluation at 2018-03-16-07:28:46\n",
      "INFO:tensorflow:Restoring parameters from taxi_trained/model.ckpt-6071\n",
      "INFO:tensorflow:Finished evaluation at 2018-03-16-07:28:46\n",
      "INFO:tensorflow:Saving dict for global step 6071: average_loss = 135.02046, global_step = 6071, loss = 16057.79\n",
      "RMSE on validation dataset = 11.619830131530762\n"
     ]
    }
   ],
   "source": [
    "tf.logging.set_verbosity(tf.logging.INFO)\n",
    "shutil.rmtree(OUTDIR, ignore_errors = True) # start fresh each time\n",
    "model = tf.estimator.DNNRegressor(hidden_units = [32, 8, 2],\n",
    "      feature_columns = make_feature_cols(), model_dir = OUTDIR)\n",
    "model.train(input_fn = make_input_fn(df_train, num_epochs = 100));\n",
    "print_rmse(model, 'validation', df_valid)"
   ]
  },
  {
   "cell_type": "markdown",
   "metadata": {
    "deletable": true,
    "editable": true
   },
   "source": [
    "We are not beating our benchmark with either model ... what's up?  Well, we may be using TensorFlow for Machine Learning, but we are not yet using it well.  That's what the rest of this course is about!\n",
    "\n",
    "But, for the record, let's say we had to choose between the two models. We'd choose the one with the lower validation error. Finally, we'd measure the RMSE on the test data with this chosen model."
   ]
  },
  {
   "cell_type": "markdown",
   "metadata": {
    "deletable": true,
    "editable": true
   },
   "source": [
    "<h2> Benchmark dataset </h2>\n",
    "\n",
    "Let's do this on the benchmark dataset."
   ]
  },
  {
   "cell_type": "code",
   "execution_count": 9,
   "metadata": {
    "collapsed": false,
    "deletable": true,
    "editable": true
   },
   "outputs": [],
   "source": [
    "import datalab.bigquery as bq\n",
    "import numpy as np\n",
    "import pandas as pd\n",
    "\n",
    "\n",
    "def create_query(phase, EVERY_N):\n",
    "  \"\"\"\n",
    "  phase: 1 = train 2 = valid\n",
    "  \"\"\"\n",
    "  base_query = \"\"\"\n",
    "SELECT\n",
    "  (tolls_amount + fare_amount) AS fare_amount,\n",
    "  CONCAT(STRING(pickup_datetime), STRING(pickup_longitude), STRING(pickup_latitude), STRING(dropoff_latitude), STRING(dropoff_longitude)) AS key,\n",
    "  DAYOFWEEK(pickup_datetime)*1.0 AS dayofweek,\n",
    "  HOUR(pickup_datetime)*1.0 AS hourofday,\n",
    "  pickup_longitude AS pickuplon,\n",
    "  pickup_latitude AS pickuplat,\n",
    "  dropoff_longitude AS dropofflon,\n",
    "  dropoff_latitude AS dropofflat,\n",
    "  passenger_count*1.0 AS passengers,\n",
    "FROM\n",
    "  [nyc-tlc:yellow.trips]\n",
    "WHERE\n",
    "  trip_distance > 0\n",
    "  AND fare_amount >= 2.5\n",
    "  AND pickup_longitude > -78\n",
    "  AND pickup_longitude < -70\n",
    "  AND dropoff_longitude > -78\n",
    "  AND dropoff_longitude < -70\n",
    "  AND pickup_latitude > 37\n",
    "  AND pickup_latitude < 45\n",
    "  AND dropoff_latitude > 37\n",
    "  AND dropoff_latitude < 45\n",
    "  AND passenger_count > 0\n",
    "  \"\"\"\n",
    "\n",
    "  if EVERY_N == None:\n",
    "    if phase < 2:\n",
    "      # Training\n",
    "      query = \"{0} AND ABS(HASH(pickup_datetime)) % 4 < 2\".format(base_query)\n",
    "    else:\n",
    "      # Validation\n",
    "      query = \"{0} AND ABS(HASH(pickup_datetime)) % 4 == {1}\".format(base_query, phase)\n",
    "  else:\n",
    "    query = \"{0} AND ABS(HASH(pickup_datetime)) % {1} == {2}\".format(base_query, EVERY_N, phase)\n",
    "    \n",
    "  return query\n",
    "\n",
    "query = create_query(2, 100000)\n",
    "df = bq.Query(query).to_dataframe()"
   ]
  },
  {
   "cell_type": "code",
   "execution_count": 10,
   "metadata": {
    "collapsed": false,
    "deletable": true,
    "editable": true
   },
   "outputs": [
    {
     "name": "stdout",
     "output_type": "stream",
     "text": [
      "INFO:tensorflow:Starting evaluation at 2018-03-16-07:28:51\n",
      "INFO:tensorflow:Restoring parameters from taxi_trained/model.ckpt-6071\n",
      "INFO:tensorflow:Finished evaluation at 2018-03-16-07:28:51\n",
      "INFO:tensorflow:Saving dict for global step 6071: average_loss = 111.48078, global_step = 6071, loss = 14169.493\n",
      "RMSE on benchmark dataset = 10.558445930480957\n"
     ]
    }
   ],
   "source": [
    "print_rmse(model, 'benchmark', df)"
   ]
  },
  {
   "cell_type": "markdown",
   "metadata": {
    "deletable": true,
    "editable": true
   },
   "source": [
    "RMSE on benchmark dataset is <b>9.41</b> (your results will vary because of random seeds).\n",
    "\n",
    "This is not only way more than our original benchmark of 6.00, but it doesn't even beat our distance-based rule's RMSE of 8.02.\n",
    "\n",
    "Fear not -- you have learned how to write a TensorFlow model, but not to do all the things that you will have to do to your ML model performant. We will do this in the next chapters. In this chapter though, we will get our TensorFlow model ready for these improvements.\n",
    "\n",
    "In a software sense, the rest of the labs in this chapter will be about refactoring the code so that we can improve it."
   ]
  },
  {
   "cell_type": "markdown",
   "metadata": {
    "deletable": true,
    "editable": true
   },
   "source": [
    "Copyright 2017 Google Inc. Licensed under the Apache License, Version 2.0 (the \"License\"); you may not use this file except in compliance with the License. You may obtain a copy of the License at http://www.apache.org/licenses/LICENSE-2.0 Unless required by applicable law or agreed to in writing, software distributed under the License is distributed on an \"AS IS\" BASIS, WITHOUT WARRANTIES OR CONDITIONS OF ANY KIND, either express or implied. See the License for the specific language governing permissions and limitations under the License"
   ]
  }
 ],
 "metadata": {
  "kernelspec": {
   "display_name": "Python 3",
   "language": "python",
   "name": "python3"
  },
  "language_info": {
   "codemirror_mode": {
    "name": "ipython",
    "version": 3
   },
   "file_extension": ".py",
   "mimetype": "text/x-python",
   "name": "python",
   "nbconvert_exporter": "python",
   "pygments_lexer": "ipython3",
   "version": "3.5.5"
  }
 },
 "nbformat": 4,
 "nbformat_minor": 0
}
